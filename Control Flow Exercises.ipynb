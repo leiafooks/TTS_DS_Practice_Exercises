{
 "cells": [
  {
   "cell_type": "markdown",
   "metadata": {},
   "source": [
    "Data Science Fundamentals: Python |\n",
    "[Table of Contents](../index.ipynb)\n",
    "- - - \n",
    "<!--NAVIGATION-->\n",
    "Module 3. [Control Flow](./01_mod_control_flow.ipynb) | [Statements](./02_python_statements.ipynb) | [Functions](./03_python_functions.ipynb) | **[Exercises](./04_mod_exercises.ipynb)**\n",
    "<!--NAVIGATION-->\n",
    "Supplemental. [While Loops](./supplemental/01_while-loop.ipynb) | [If Elif Else](./supplemental/02_if-elif-else.ipynb) | [Break Continue](./supplemental/03_break_continue.ipynb) | [For Loops](./04_for_loop.ipynb)\n",
    "<!--NAVIGATION-->\n",
    "Optional. [Writing Assignment](./optional/writing_assignment.ipynb)"
   ]
  },
  {
   "cell_type": "markdown",
   "metadata": {},
   "source": [
    "# Module 3: Practice Exercises"
   ]
  },
  {
   "cell_type": "markdown",
   "metadata": {},
   "source": [
    "1. Guess a number between 1 to 9 given by the user. Hint. [Random](https://docs.python.org/3/library/random.html)\n",
    "random is a function "
   ]
  },
  {
   "cell_type": "code",
   "execution_count": 1,
   "metadata": {},
   "outputs": [
    {
     "name": "stdout",
     "output_type": "stream",
     "text": [
      "Guess a number between 1-9: 1\n",
      "Guess again\n",
      "Guess a number between 1-9: 2\n",
      "You guessed correctly!\n"
     ]
    }
   ],
   "source": [
    "import random #imported random function\n",
    "randomgenerator = random.randrange(1,10) #randomly picks number btw 1-9 (10 is not counted)\n",
    "while True: #infinte loop that needs 'break'\n",
    "    guessint = input(\"Guess a number between 1-9: \") \n",
    "    if guessint == randomgenerator: \n",
    "        print(\"You guessed correctly!\") #if input matches randomly generated number will print string and end loop\n",
    "        break\n",
    "    else:\n",
    "        print(\"Guess again\") #if input does not match number user will be prompted to enter another number"
   ]
  },
  {
   "cell_type": "markdown",
   "metadata": {},
   "source": [
    "2. Check the validity of password input by the user. Hint. [Re](https://docs.python.org/3/library/re.html) which does matching operations much like Perl.\n",
    "\n",
    "Validation:\n",
    "\n",
    "- At least 1 letter between [a-z] and 1 letter between [A-Z].\n",
    "- At least 1 number between [0-9].\n",
    "- At least 1 character from [$#@].\n",
    "- Minimum length 6 characters.\n",
    "- Maximum length 16 characters."
   ]
  },
  {
   "cell_type": "code",
   "execution_count": 2,
   "metadata": {},
   "outputs": [
    {
     "name": "stdout",
     "output_type": "stream",
     "text": [
      "Enter a password: leiaFoo2#\n",
      "Password is valid\n"
     ]
    }
   ],
   "source": [
    "import re #Imported re python module\n",
    "while True: #infinite loop that needs a 'break'\n",
    "    userpassword = input(\"Enter a password: \")\n",
    "    \n",
    "    is_valid = False #is_valid is a flag that is used to determine if the password is valid or not. False = not valid\n",
    "        #Any data type can be used as a flag. An integer could have the value 1 if something happened and 0 if it did not or use a boolean (True or False)\n",
    "    \n",
    "    if (len(userpassword)<6 or len(userpassword)>16): #Check if the length of the password is between 6 to 16\n",
    "        print(\"Password is not valid! Total characters should be between 6 and 16\")\n",
    "    \n",
    "    #re.search will search the regular expression (RE) pattern and returns a match object when the pattern is found and “null” if the pattern is not found\n",
    "    #method takes two arguments: a pattern and a string \n",
    "    #pattern = 1st argument; the regular expression pattern we want to search inside the target string\n",
    "    #string = 2nd argument; the variable pointing to the target string (In which we want to look for occurrences of the pattern).\n",
    "    elif not re.search(\"[a-z]\",userpassword): #Check if the password contains any lower case character. If it contains any lower case character, move to the next condition \n",
    "        print(\"Password is not valid! It should contain one letter between [a-z]\")\n",
    "        \n",
    "    elif not re.search(\"[A-Z]\",userpassword): #Check if the password contains any upper case character. If it contains any upper case character, move to the next condition\n",
    "        print(\"Password is not valid! It should contain one letter between [A-Z]\")\n",
    "        \n",
    "    elif not re.search(\"[0-9]\",userpassword): #Check if the password contains any number\n",
    "        print(\"Password is not valid! It should contain one letter between [0-9]\")\n",
    "        \n",
    "    elif not re.search(\"[$#@]\",userpassword): #Check if the password contains any special character\n",
    "        print(\"Password is not valid! It should contain at least one letter in [$#@]\")\n",
    "        \n",
    "    else:\n",
    "        is_valid = True #If all other conditions are met, is_valid is marked as True\n",
    "        break\n",
    "if(is_valid):\n",
    "    print(\"Password is valid\") #If the password is valid, print one message to inform the user."
   ]
  },
  {
   "cell_type": "markdown",
   "metadata": {},
   "source": [
    "3. Get input of the age of 3 people by user and determine oldest and youngest among them"
   ]
  },
  {
   "cell_type": "code",
   "execution_count": 1,
   "metadata": {},
   "outputs": [
    {
     "name": "stdout",
     "output_type": "stream",
     "text": [
      "Enter First Person's Age : 3\n",
      "Enter Second Person's Age : 4\n",
      "Enter Third Person's Age : 89\n",
      "The Oldest of All Three People is:  89\n",
      "The Youngest of All Three People is:  3\n"
     ]
    }
   ],
   "source": [
    "number1 = int(input(\"Enter First Person's Age : \"))\n",
    "number2 = int(input(\"Enter Second Person's Age : \"))\n",
    "number3 = int(input(\"Enter Third Person's Age : \"))\n",
    "\n",
    "if number1 >= number2 and number1 >= number3:\n",
    "    print(\"The Oldest of All Three People is: \", number1)\n",
    "elif number2 >= number1 and number2 >= number3:\n",
    "    print(\"The Oldest of All Three People is: \", number2)\n",
    "elif number3 >= number1 and number3 >= number2:\n",
    "    print(\"The Oldest of All Three People is: \", number3)\n",
    "else:\n",
    "    print(\"All are the same age\")\n",
    "if number1 <= number2 and number1 <= number3:\n",
    "    print(\"The Youngest of All Three People is: \", number1)\n",
    "elif number2 <= number1 and number2 <= number3:\n",
    "    print(\"The Youngest of All Three People is: \", number2)\n",
    "elif number3 <= number1 and number3 <= number2:\n",
    "    print(\"The Youngest of All Three People is: \", number3)\n",
    "else:\n",
    "    print(\"All are the same age\")"
   ]
  },
  {
   "cell_type": "markdown",
   "metadata": {},
   "source": [
    "4. A student will not be allowed to sit in exam if his/her attendance is less than 75%.\n",
    "\n",
    "Take following input from user\n",
    "\n",
    "- Number of classes held\n",
    "- Number of classes attended.\n",
    "- And print percentage of class attended\n",
    "- Is student is allowed to sit in exam or not?"
   ]
  },
  {
   "cell_type": "code",
   "execution_count": 6,
   "metadata": {},
   "outputs": [
    {
     "name": "stdout",
     "output_type": "stream",
     "text": [
      "How many classes are held: 30\n",
      "How many classes have you attend: 3\n",
      "You can not take part in the exam\n"
     ]
    }
   ],
   "source": [
    "classesheld = int(input(\"How many classes are held: \"))\n",
    "classesattended = int(input(\"How many classes have you attend: \"))\n",
    "percentage_class_attended = classesattended / classesheld\n",
    "if percentage_class_attended < 0.75:\n",
    "    print(\"You can not take part in the exam\")\n",
    "else:\n",
    "    print(\"You can take part in the exam\")"
   ]
  },
  {
   "cell_type": "markdown",
   "metadata": {},
   "source": [
    "5. Get an integer N from the user and perform the following actions:\n",
    "\n",
    "Find out - \n",
    "- if N is odd, print \"weird\"\n",
    "- if N is even and in the inclusive range of 2 to 5, print \"Not Weird\"\n",
    "- if N is even and in the inclusive range of 6 to 20, print \"Weird\"\n",
    "- if N is even and greater than 20, print \"Not Weird\""
   ]
  },
  {
   "cell_type": "code",
   "execution_count": 13,
   "metadata": {},
   "outputs": [
    {
     "name": "stdout",
     "output_type": "stream",
     "text": [
      "Input a Number to see if You Are Weird or Not Weird: 22\n",
      "Not Weird\n"
     ]
    }
   ],
   "source": [
    "# Given an integer, n, perform the following conditional actions:\n",
    "# If n is odd, print Weird\n",
    "# If n is even and in the inclusive range of 2 to 5, print Not Weird\n",
    "# If n is even and in the inclusive range of 6 to 20, print Weird\n",
    "# If n is even and greater than 20, print Not Weird\n",
    "N = int(input(\"Input a Number to see if You Are Weird or Not Weird: \"))\n",
    "if (N % 2) != 0:\n",
    "    print(\"Weird\")\n",
    "elif (N % 2) == 0 and N in range(2,6):\n",
    "    print(\"Not Weird\")\n",
    "elif (N % 2) == 0 and N in range(6,21):\n",
    "    print(\"Weird\")\n",
    "elif (N % 2) == 0 and N > 20:\n",
    "    print(\"Not Weird\")"
   ]
  },
  {
   "cell_type": "markdown",
   "metadata": {},
   "source": [
    "\n",
    "## Extra Points\n",
    "- - -"
   ]
  },
  {
   "cell_type": "markdown",
   "metadata": {},
   "source": [
    "1. ***Optional Exercise (Extra Points)***. Write a Python program to reverse a string."
   ]
  },
  {
   "cell_type": "raw",
   "metadata": {},
   "source": [
    "Sample String : \"1234abcd\"\n",
    "Expected Output : \"dcba4321\""
   ]
  },
  {
   "cell_type": "code",
   "execution_count": 12,
   "metadata": {},
   "outputs": [
    {
     "name": "stdout",
     "output_type": "stream",
     "text": [
      "32olleh\n"
     ]
    }
   ],
   "source": [
    "def reversestring(x):\n",
    "    return x[::-1]\n",
    "word = \"hello23\"\n",
    "print(reversestring(word))"
   ]
  },
  {
   "cell_type": "markdown",
   "metadata": {},
   "source": [
    "2. ***Optional Exercise (Extra Points)***. Write a Python function to multiply all the numbers in a list. "
   ]
  },
  {
   "cell_type": "raw",
   "metadata": {},
   "source": [
    "Sample List : (8, 2, 3, -1, 7)\n",
    "Expected Output : -336"
   ]
  },
  {
   "cell_type": "code",
   "execution_count": 3,
   "metadata": {},
   "outputs": [
    {
     "name": "stdout",
     "output_type": "stream",
     "text": [
      "-336\n"
     ]
    }
   ],
   "source": [
    "samplelist = [8, 2, 3, -1, 7]\n",
    "def multiplylist(x):\n",
    "    total = 1\n",
    "    for i in x:\n",
    "        total *= i\n",
    "    return total\n",
    "print(multiplylist(samplelist))"
   ]
  },
  {
   "cell_type": "markdown",
   "metadata": {},
   "source": [
    "3. ***Optional Exercise (Extra Points)***. Write a Python function that accepts a string and calculate the number of upper case letters and lower case letters."
   ]
  },
  {
   "cell_type": "raw",
   "metadata": {},
   "source": [
    "Sample String : 'The quick Brow Fox'\n",
    "Expected Output :\n",
    "No. of Upper case characters : 3\n",
    "No. of Lower case Characters : 12"
   ]
  },
  {
   "cell_type": "code",
   "execution_count": 11,
   "metadata": {},
   "outputs": [
    {
     "name": "stdout",
     "output_type": "stream",
     "text": [
      "Original String :  The quick Brow Fox\n",
      "No. of Upper case characters :  3\n",
      "No. of Lower case Characters :  12\n"
     ]
    }
   ],
   "source": [
    "def calculate_upper_lower(x):\n",
    "    d = {\"UPPER_CASE\":0, \"LOWER_CASE\":0} #created dictionary with values set at 0 because want to count from 0\n",
    "    for i in x:\n",
    "        if i.isupper():\n",
    "            d[\"UPPER_CASE\"] += 1\n",
    "        elif i.islower():\n",
    "            d[\"LOWER_CASE\"] += 1\n",
    "        else:\n",
    "            pass\n",
    "    print (\"Original String : \", x)\n",
    "    print (\"No. of Upper case characters : \", d[\"UPPER_CASE\"])\n",
    "    print (\"No. of Lower case Characters : \", d[\"LOWER_CASE\"])\n",
    "\n",
    "string_test('The quick Brow Fox')"
   ]
  },
  {
   "cell_type": "markdown",
   "metadata": {},
   "source": [
    "- - -\n",
    "\n",
    "Copyright © 2020 Qualex Consulting Services Incorporated."
   ]
  }
 ],
 "metadata": {
  "kernelspec": {
   "display_name": "Python 3",
   "language": "python",
   "name": "python3"
  },
  "language_info": {
   "codemirror_mode": {
    "name": "ipython",
    "version": 3
   },
   "file_extension": ".py",
   "mimetype": "text/x-python",
   "name": "python",
   "nbconvert_exporter": "python",
   "pygments_lexer": "ipython3",
   "version": "3.8.8"
  }
 },
 "nbformat": 4,
 "nbformat_minor": 4
}
